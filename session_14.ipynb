{
 "cells": [
  {
   "cell_type": "code",
   "execution_count": 1,
   "metadata": {},
   "outputs": [],
   "source": [
    "# import the necessary libraries\n",
    "import csv\n",
    "import operator\n",
    "from itertools import islice\n",
    "from collections import namedtuple\n",
    "from datetime import datetime"
   ]
  },
  {
   "cell_type": "code",
   "execution_count": 2,
   "metadata": {},
   "outputs": [],
   "source": [
    "personalinfo_data_types = ['STRING', 'STRING', 'STRING', 'STRING','STRING']\n",
    "employment_data_types = ['STRING', 'STRING', 'STRING', 'STRING']\n",
    "updstatus_data_types = ['STRING', 'DATETIME', 'DATETIME']\n",
    "vehicles_data_types = ['STRING', 'STRING', 'STRING', 'DATE']"
   ]
  },
  {
   "cell_type": "code",
   "execution_count": 3,
   "metadata": {},
   "outputs": [],
   "source": [
    "def cast(data_type, value):\n",
    "    \"\"\"\n",
    "    To convert the data into appropriate datatypes\n",
    "    \"\"\"\n",
    "    if data_type == 'DOUBLE':\n",
    "        return float(value)\n",
    "    elif data_type == 'INT':\n",
    "        return int(value)\n",
    "    elif data_type =='DATETIME':\n",
    "        return datetime.strptime(value,'%Y-%m-%dT%H:%M:%S%z').date()\n",
    "    elif data_type == 'DATE':\n",
    "        return datetime.strptime(value,'%Y').date().year\n",
    "    else:\n",
    "        return str(value)"
   ]
  },
  {
   "cell_type": "code",
   "execution_count": 4,
   "metadata": {},
   "outputs": [],
   "source": [
    "def cast_row(data_types, data_row):\n",
    "    return [cast(data_type, value) \n",
    "            for data_type, value in zip(data_types, data_row)]"
   ]
  },
  {
   "cell_type": "code",
   "execution_count": 5,
   "metadata": {},
   "outputs": [],
   "source": [
    "def read_file(filename, data_types, header = False):\n",
    "    with open(filename) as f:\n",
    "        file_iter = iter(f)\n",
    "        headers = next(file_iter).strip('\\n').split(',')\n",
    "        tuplename = filename.split('.')[0]\n",
    "        named_tuple = namedtuple(tuplename, headers, defaults=(None,) * len(headers))\n",
    "        if header:\n",
    "            yield headers\n",
    "        for line in file_iter:\n",
    "            data = line.strip('\\n').split(',')\n",
    "            data = cast_row(data_types, data)\n",
    "            iterdata = named_tuple(*data)\n",
    "            yield iterdata"
   ]
  },
  {
   "cell_type": "markdown",
   "metadata": {},
   "source": [
    "## **Goal 1**\n",
    "\n",
    "Your first task is to create iterators for each of the four files that contained cleaned up data, of the correct type (e.g. string, int, date, etc), and represented by a named tuple"
   ]
  },
  {
   "cell_type": "code",
   "execution_count": 6,
   "metadata": {},
   "outputs": [
    {
     "name": "stdout",
     "output_type": "stream",
     "text": [
      "personal_info(ssn='100-53-9824', first_name='Sebastiano', last_name='Tester', gender='Male', language='Icelandic')\n",
      "personal_info(ssn='101-71-4702', first_name='Cayla', last_name='MacDonagh', gender='Female', language='Lao')\n",
      "personal_info(ssn='101-84-0356', first_name='Nomi', last_name='Lipprose', gender='Female', language='Yiddish')\n",
      "personal_info(ssn='104-22-0928', first_name='Justinian', last_name='Kunzelmann', gender='Male', language='Dhivehi')\n",
      "personal_info(ssn='104-84-7144', first_name='Claudianus', last_name='Brixey', gender='Male', language='Afrikaans')\n",
      "personal_info(ssn='105-27-5541', first_name='Federico', last_name='Aggett', gender='Male', language='Chinese')\n",
      "personal_info(ssn='105-85-7486', first_name='Angelina', last_name='McAvey', gender='Female', language='Punjabi')\n",
      "personal_info(ssn='105-91-5022', first_name='Moselle', last_name='Apfel', gender='Female', language='Latvian')\n",
      "personal_info(ssn='105-91-7777', first_name='Audi', last_name='Roach', gender='Female', language='Estonian')\n",
      "personal_info(ssn='106-35-1938', first_name='Mackenzie', last_name='Nussey', gender='Male', language='Swedish')\n"
     ]
    }
   ],
   "source": [
    "personal_info = read_file('personal_info.csv', personalinfo_data_types)\n",
    "for row in islice(personal_info,10):\n",
    "    print(row)"
   ]
  },
  {
   "cell_type": "code",
   "execution_count": 7,
   "metadata": {},
   "outputs": [
    {
     "name": "stdout",
     "output_type": "stream",
     "text": [
      "employment(employer='Stiedemann-Bailey', department='Research and Development', employee_id='29-0890771', ssn='100-53-9824')\n",
      "employment(employer='Nicolas and Sons', department='Sales', employee_id='41-6841359', ssn='101-71-4702')\n",
      "employment(employer='Connelly Group', department='Research and Development', employee_id='98-7952860', ssn='101-84-0356')\n",
      "employment(employer='Upton LLC', department='Marketing', employee_id='56-9817552', ssn='104-22-0928')\n",
      "employment(employer='Zemlak-Olson', department='Business Development', employee_id='46-2886707', ssn='104-84-7144')\n",
      "employment(employer='\"Kohler', department=' Bradtke and Davis\"', employee_id='Support', ssn='80-0975518')\n",
      "employment(employer='\"Roberts', department=' Torphy and Dach\"', employee_id='Human Resources', ssn='77-4895332')\n",
      "employment(employer='Lind-Jast', department='Marketing', employee_id='79-6418731', ssn='105-91-5022')\n",
      "employment(employer='Bashirian-Lueilwitz', department='Engineering', employee_id='44-3328799', ssn='105-91-7777')\n",
      "employment(employer='\"Windler', department=' Marks and Haley\"', employee_id='Services', ssn='54-6271885')\n"
     ]
    }
   ],
   "source": [
    "# Creating an iterator for employment.csv using read_file() and printing the first 5 elements\n",
    "employment_info = read_file('employment.csv', employment_data_types)\n",
    "for row in islice(employment_info, 10):\n",
    "    print(row)"
   ]
  },
  {
   "cell_type": "code",
   "execution_count": 8,
   "metadata": {},
   "outputs": [
    {
     "name": "stdout",
     "output_type": "stream",
     "text": [
      "update_status(ssn='100-53-9824', last_updated=datetime.date(2017, 10, 7), created=datetime.date(2016, 1, 24))\n",
      "update_status(ssn='101-71-4702', last_updated=datetime.date(2017, 1, 23), created=datetime.date(2016, 1, 27))\n",
      "update_status(ssn='101-84-0356', last_updated=datetime.date(2017, 10, 4), created=datetime.date(2016, 9, 21))\n",
      "update_status(ssn='104-22-0928', last_updated=datetime.date(2017, 3, 28), created=datetime.date(2016, 4, 15))\n",
      "update_status(ssn='104-84-7144', last_updated=datetime.date(2018, 2, 19), created=datetime.date(2016, 3, 15))\n",
      "update_status(ssn='105-27-5541', last_updated=datetime.date(2017, 7, 24), created=datetime.date(2016, 7, 23))\n",
      "update_status(ssn='105-85-7486', last_updated=datetime.date(2018, 2, 14), created=datetime.date(2016, 12, 15))\n",
      "update_status(ssn='105-91-5022', last_updated=datetime.date(2018, 3, 24), created=datetime.date(2016, 3, 24))\n",
      "update_status(ssn='105-91-7777', last_updated=datetime.date(2017, 5, 11), created=datetime.date(2016, 5, 31))\n",
      "update_status(ssn='106-35-1938', last_updated=datetime.date(2017, 10, 21), created=datetime.date(2016, 9, 8))\n"
     ]
    }
   ],
   "source": [
    "# Creating an iterator for update_status.csv using read_file() and printing the first 5 elements\n",
    "updatestatus_info = read_file('update_status.csv', updstatus_data_types)\n",
    "for row in islice(updatestatus_info, 10):\n",
    "    print(row)"
   ]
  },
  {
   "cell_type": "code",
   "execution_count": 9,
   "metadata": {},
   "outputs": [
    {
     "name": "stdout",
     "output_type": "stream",
     "text": [
      "vehicles(ssn='100-53-9824', vehicle_make='Oldsmobile', vehicle_model='Bravada', model_year=1993)\n",
      "vehicles(ssn='101-71-4702', vehicle_make='Ford', vehicle_model='Mustang', model_year=1997)\n",
      "vehicles(ssn='101-84-0356', vehicle_make='GMC', vehicle_model='Yukon', model_year=2005)\n",
      "vehicles(ssn='104-22-0928', vehicle_make='Oldsmobile', vehicle_model='Intrigue', model_year=2000)\n",
      "vehicles(ssn='104-84-7144', vehicle_make='Ford', vehicle_model='Crown Victoria', model_year=2008)\n",
      "vehicles(ssn='105-27-5541', vehicle_make='Ford', vehicle_model='Mustang', model_year=2001)\n",
      "vehicles(ssn='105-85-7486', vehicle_make='Chrysler', vehicle_model='300', model_year=2008)\n",
      "vehicles(ssn='105-91-5022', vehicle_make='Isuzu', vehicle_model='Hombre Space', model_year=2000)\n",
      "vehicles(ssn='105-91-7777', vehicle_make='Chevrolet', vehicle_model='Silverado 3500', model_year=2004)\n",
      "vehicles(ssn='106-35-1938', vehicle_make='GMC', vehicle_model='Sonoma Club', model_year=1992)\n"
     ]
    }
   ],
   "source": [
    "# Creating an iterator for vehicles.csv using read_file() and printing the first 5 elements\n",
    "vehicles_info = read_file('vehicles.csv', vehicles_data_types)\n",
    "for row in islice(vehicles_info, 10):\n",
    "    print(row)\n"
   ]
  },
  {
   "cell_type": "markdown",
   "metadata": {},
   "source": [
    "## **Goal 2**\n",
    "\n",
    "Create a single iterable that combines all the columns from all the iterators.\n",
    "\n",
    "The iterable should yield named tuples containing all the columns. Make sure that the SSN's across the files match!\n",
    "\n",
    "All the files are guaranteed to be in SSN sort order, and every SSN is unique, and every SSN appears in every file.\n",
    "\n",
    "Make sure the SSN is not repeated 4 times - one time per row is enough!"
   ]
  },
  {
   "cell_type": "code",
   "execution_count": 10,
   "metadata": {},
   "outputs": [],
   "source": [
    "header = ['ssn', 'first_name', 'last_name', 'gender', 'language','vehicle_make', 'vehicle_model', 'model_year',\n",
    "             'employer', 'department', 'employee_id','last_updated', 'created']\n",
    "        \n",
    "\n",
    "class Combine:\n",
    "    def __init__(self, personal_info,employment,update_status,vehicles):\n",
    "        self.personal_info = personal_info\n",
    "        self.employment = employment\n",
    "        self.update_status = update_status\n",
    "        self.vehicles = vehicles\n",
    "        \n",
    "    def __iter__(self):\n",
    "        return Combine.combine_data(self.personal_info,self.vehicles,self.employment,self.update_status)  \n",
    "    \n",
    "    @staticmethod\n",
    "    def combine_data(personal_info,vehicles,employment,update_status):\n",
    "        \n",
    "        personal_info = read_file(personal_info,personalinfo_data_types)\n",
    "        employment = read_file(employment,employment_data_types)\n",
    "        update_status = read_file(update_status,updstatus_data_types)\n",
    "        vehicles = read_file(vehicles,vehicles_data_types)\n",
    "\n",
    "        #creating a namedtuple\n",
    "        information = namedtuple('Combination',header)\n",
    "\n",
    "        for i in range(1000):\n",
    "            data = next(personal_info)\n",
    "            ssn, *data1 = next(employment)\n",
    "            *data2, ssn = next(update_status)\n",
    "            ssn, *data3 = next(vehicles)\n",
    "            info = information(*data,*data1, *data2, *data3)\n",
    "            yield info\n",
    "        \n",
    "        \n",
    "files = 'personal_info.csv','employment.csv','update_status.csv','vehicles.csv'\n",
    "combine = Combine(*files)\n"
   ]
  },
  {
   "cell_type": "code",
   "execution_count": 11,
   "metadata": {},
   "outputs": [
    {
     "name": "stdout",
     "output_type": "stream",
     "text": [
      "Combination(ssn='100-53-9824', first_name='Sebastiano', last_name='Tester', gender='Male', language='Icelandic', vehicle_make='Research and Development', vehicle_model='29-0890771', model_year='100-53-9824', employer='100-53-9824', department=datetime.date(2017, 10, 7), employee_id='Oldsmobile', last_updated='Bravada', created=1993)\n",
      "\n",
      "Combination(ssn='101-71-4702', first_name='Cayla', last_name='MacDonagh', gender='Female', language='Lao', vehicle_make='Sales', vehicle_model='41-6841359', model_year='101-71-4702', employer='101-71-4702', department=datetime.date(2017, 1, 23), employee_id='Ford', last_updated='Mustang', created=1997)\n",
      "\n",
      "Combination(ssn='101-84-0356', first_name='Nomi', last_name='Lipprose', gender='Female', language='Yiddish', vehicle_make='Research and Development', vehicle_model='98-7952860', model_year='101-84-0356', employer='101-84-0356', department=datetime.date(2017, 10, 4), employee_id='GMC', last_updated='Yukon', created=2005)\n",
      "\n",
      "Combination(ssn='104-22-0928', first_name='Justinian', last_name='Kunzelmann', gender='Male', language='Dhivehi', vehicle_make='Marketing', vehicle_model='56-9817552', model_year='104-22-0928', employer='104-22-0928', department=datetime.date(2017, 3, 28), employee_id='Oldsmobile', last_updated='Intrigue', created=2000)\n",
      "\n",
      "Combination(ssn='104-84-7144', first_name='Claudianus', last_name='Brixey', gender='Male', language='Afrikaans', vehicle_make='Business Development', vehicle_model='46-2886707', model_year='104-84-7144', employer='104-84-7144', department=datetime.date(2018, 2, 19), employee_id='Ford', last_updated='Crown Victoria', created=2008)\n",
      "\n"
     ]
    }
   ],
   "source": [
    "from itertools import islice\n",
    "\n",
    "for row in islice(combine, 5):\n",
    "    print(row, end=\"\\n\\n\")"
   ]
  },
  {
   "cell_type": "code",
   "execution_count": 12,
   "metadata": {},
   "outputs": [
    {
     "data": {
      "text/plain": [
       "Combination(ssn='100-53-9824', first_name='Sebastiano', last_name='Tester', gender='Male', language='Icelandic', vehicle_make='Research and Development', vehicle_model='29-0890771', model_year='100-53-9824', employer='100-53-9824', department=datetime.date(2017, 10, 7), employee_id='Oldsmobile', last_updated='Bravada', created=1993)"
      ]
     },
     "execution_count": 12,
     "metadata": {},
     "output_type": "execute_result"
    }
   ],
   "source": [
    "combine_iter = iter(combine)\n",
    "next(combine_iter)"
   ]
  }
 ],
 "metadata": {
  "kernelspec": {
   "display_name": "Python 3",
   "language": "python",
   "name": "python3"
  },
  "language_info": {
   "codemirror_mode": {
    "name": "ipython",
    "version": 3
   },
   "file_extension": ".py",
   "mimetype": "text/x-python",
   "name": "python",
   "nbconvert_exporter": "python",
   "pygments_lexer": "ipython3",
   "version": "3.8.10"
  }
 },
 "nbformat": 4,
 "nbformat_minor": 4
}
